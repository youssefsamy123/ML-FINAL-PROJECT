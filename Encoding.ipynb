{
 "cells": [
  {
   "cell_type": "code",
   "execution_count": 9,
   "id": "6facbb6d-3e01-4d3d-832b-84cfb87a8f29",
   "metadata": {},
   "outputs": [],
   "source": [
    "import pandas as pd\n",
    "\n",
    "def create_lookup_tables(df, columns_to_encode):\n",
    "    lookup_tables = {}\n",
    "    for column in columns_to_encode:\n",
    "        unique_values = df[column].unique()\n",
    "        lookup_table = {value: i for i, value in enumerate(unique_values)}\n",
    "        lookup_tables[column] = lookup_table\n",
    "    return lookup_tables\n",
    "\n",
    "def encode_with_lookup_tables(df, lookup_tables):\n",
    "    encoded_df = df.copy()\n",
    "    for column, lookup_table in lookup_tables.items():\n",
    "        encoded_df[column] = encoded_df[column].map(lookup_table)\n",
    "    return encoded_df\n",
    "\n",
    "# Provide the file path of your CSV file\n",
    "file_path = 'green_tripdata_{17}-{8}clean.csv'\n",
    "\n",
    "# Specify the columns to encode\n",
    "columns_to_encode = ['vendor', 'store_and_fwd_flag', 'rate_type', 'pu_location', 'do_location', 'payment_type', 'trip_type']\n",
    "\n",
    "# Read the CSV file\n",
    "df = pd.read_csv(file_path)\n",
    "\n",
    "# Create lookup tables\n",
    "lookup_tables = create_lookup_tables(df, columns_to_encode)\n",
    "\n",
    "# Concatenate all lookup tables into a single dictionary\n",
    "concatenated_lookup_table = {}\n",
    "for column, lookup_table in lookup_tables.items():\n",
    "    concatenated_lookup_table.update(lookup_table)\n",
    "\n",
    "# Export concatenated lookup table to a CSV file\n",
    "pd.DataFrame(concatenated_lookup_table.items(), columns=['Original_Value', 'Encoded_Value']).to_csv('concatenated_lookup_table.csv', index=False)\n",
    "\n",
    "# Export individual lookup tables to CSV files\n",
    "for column, lookup_table in lookup_tables.items():\n",
    "    pd.DataFrame(lookup_table.items(), columns=['Original_Value', 'Encoded_Value']).to_csv(f'{column}_lookup_table.csv', index=False)\n",
    "\n",
    "# Encode the DataFrame using the lookup tables\n",
    "encoded_df = encode_with_lookup_tables(df, lookup_tables)\n",
    "\n",
    "# You can save the encoded DataFrame to a new CSV file if needed\n",
    "encoded_df.to_csv('green_tripdata_{17}-{8}encoded.csv', index=False)"
   ]
  },
  {
   "cell_type": "code",
   "execution_count": null,
   "id": "22cd1307-11bc-43a2-bbcc-7a26e5cb0017",
   "metadata": {},
   "outputs": [],
   "source": []
  }
 ],
 "metadata": {
  "kernelspec": {
   "display_name": "Python 3 (ipykernel)",
   "language": "python",
   "name": "python3"
  },
  "language_info": {
   "codemirror_mode": {
    "name": "ipython",
    "version": 3
   },
   "file_extension": ".py",
   "mimetype": "text/x-python",
   "name": "python",
   "nbconvert_exporter": "python",
   "pygments_lexer": "ipython3",
   "version": "3.11.4"
  }
 },
 "nbformat": 4,
 "nbformat_minor": 5
}
